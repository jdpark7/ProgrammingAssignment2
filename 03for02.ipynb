{
  "nbformat": 4,
  "nbformat_minor": 0,
  "metadata": {
    "colab": {
      "name": "Untitled1.ipynb",
      "provenance": [],
      "authorship_tag": "ABX9TyPcgGNzXCtPt5Vl8cpaiwJH",
      "include_colab_link": true
    },
    "kernelspec": {
      "name": "python3",
      "display_name": "Python 3"
    }
  },
  "cells": [
    {
      "cell_type": "markdown",
      "metadata": {
        "id": "view-in-github",
        "colab_type": "text"
      },
      "source": [
        "<a href=\"https://colab.research.google.com/github/jdpark7/ProgrammingAssignment2/blob/master/03for02.ipynb\" target=\"_parent\"><img src=\"https://colab.research.google.com/assets/colab-badge.svg\" alt=\"Open In Colab\"/></a>"
      ]
    },
    {
      "cell_type": "code",
      "metadata": {
        "id": "h0gCFbzcJdKr",
        "colab_type": "code",
        "colab": {}
      },
      "source": [
        "#for문을 이용하여 1에서 10까지 합을 구하시오.\n",
        "sum = 0\n",
        "for i in range(1, 11, 1):\n",
        "    sum+=i\n",
        "print(\"sum  : %d\" % sum)\n",
        "print(\"---------------\")\n",
        "#for문을 이용하여 1에서 10까지 식과 합을 구하시오.\n",
        "sum = 0\n",
        "for j in range(1, 11, 1):\n",
        "    if j<10:\n",
        "        print(\"%d + \" % j, end=\"\")\n",
        "    elif j==10:\n",
        "        print(\"%d = \" % j, end=\"\")\n",
        "    sum+=j   \n",
        "print(\"%d\" % sum)"
      ],
      "execution_count": 0,
      "outputs": []
    }
  ]
}