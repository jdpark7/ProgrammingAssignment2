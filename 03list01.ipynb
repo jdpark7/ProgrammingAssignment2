{
  "nbformat": 4,
  "nbformat_minor": 0,
  "metadata": {
    "colab": {
      "name": "Untitled1.ipynb",
      "provenance": [],
      "authorship_tag": "ABX9TyOGgaj/jyjQlAhzyuXNiRMc",
      "include_colab_link": true
    },
    "kernelspec": {
      "name": "python3",
      "display_name": "Python 3"
    }
  },
  "cells": [
    {
      "cell_type": "markdown",
      "metadata": {
        "id": "view-in-github",
        "colab_type": "text"
      },
      "source": [
        "<a href=\"https://colab.research.google.com/github/jdpark7/ProgrammingAssignment2/blob/master/03list01.ipynb\" target=\"_parent\"><img src=\"https://colab.research.google.com/assets/colab-badge.svg\" alt=\"Open In Colab\"/></a>"
      ]
    },
    {
      "cell_type": "code",
      "metadata": {
        "id": "h0gCFbzcJdKr",
        "colab_type": "code",
        "colab": {}
      },
      "source": [
        "a, b, c, d = 0, 0, 0, 0\n",
        "hap = 0\n",
        "a = int(input(\"1번째 숫자 : \"))\n",
        "b = int(input(\"2번째 숫자 : \"))\n",
        "c = int(input(\"3번째 숫자 : \"))\n",
        "d = int(input(\"4번째 숫자 : \"))\n",
        "hap = a + b + c + d\n",
        "\n",
        "print(\"합계 ==> %d\" % hap)"
      ],
      "execution_count": 0,
      "outputs": []
    }
  ]
}